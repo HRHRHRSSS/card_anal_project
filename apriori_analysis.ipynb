{
 "cells": [
  {
   "cell_type": "code",
   "execution_count": 1,
   "id": "cacd4426",
   "metadata": {},
   "outputs": [],
   "source": [
    "import pandas as pd\n",
    "import numpy as np\n",
    "import matplotlib.pyplot as plt\n",
    "import matplotlib.font_manager as fm\n",
    "import seaborn as sns\n",
    "from datetime import datetime\n",
    "\n",
    "import warnings\n",
    "warnings.simplefilter(action='ignore', category=FutureWarning)\n",
    "plt.style.use(\"ggplot\")"
   ]
  },
  {
   "cell_type": "code",
   "execution_count": 2,
   "id": "ea70eba9",
   "metadata": {},
   "outputs": [
    {
     "name": "stderr",
     "output_type": "stream",
     "text": [
      "C:\\Users\\User\\AppData\\Local\\Temp\\ipykernel_11828\\740544795.py:2: DtypeWarning: Columns (4) have mixed types. Specify dtype option on import or set low_memory=False.\n",
      "  df2 = pd.read_csv('L2.csv')\n"
     ]
    }
   ],
   "source": [
    "df1 = pd.read_csv('L1.csv')\n",
    "df2 = pd.read_csv('L2.csv')\n",
    "df3 = pd.read_csv('L3.csv')\n",
    "df4 = pd.read_csv('L4.csv')\n",
    "df5 = pd.read_csv('L5.csv')\n",
    "df6 = pd.read_csv('L6.csv')\n",
    "df_product = pd.read_excel('L4_pd_분류수정.xlsx')"
   ]
  },
  {
   "cell_type": "code",
   "execution_count": 3,
   "id": "d97b39a9",
   "metadata": {},
   "outputs": [],
   "source": [
    "from mlxtend.frequent_patterns import apriori # 연관분석 수행 함수\n",
    "from mlxtend.frequent_patterns import association_rules # 연관분석 결과 확인"
   ]
  },
  {
   "cell_type": "code",
   "execution_count": 4,
   "id": "0af18483",
   "metadata": {},
   "outputs": [],
   "source": [
    "#연관분석을 위해, 구매여부를 1,0으로 나타내주기 위한 라벨링\n",
    "df2['Label'] = 1"
   ]
  },
  {
   "cell_type": "code",
   "execution_count": 5,
   "id": "197bee54",
   "metadata": {},
   "outputs": [],
   "source": [
    "#1분기 연관분석\n",
    "\n",
    "#결제데이터 - 제품데이터 결합\n",
    "df7 = pd.merge(df2, df_product, on='pd_c', how='left')\n",
    "\n",
    "#df2데이터에 월별 변수 추가\n",
    "df7['de_dt_m'] = pd.to_datetime(df7['de_dt'], format= '%Y%m%d').dt.month\n",
    "\n",
    "cond1 = df7['de_dt_m'] <= 3"
   ]
  },
  {
   "cell_type": "code",
   "execution_count": 6,
   "id": "e4040c9d",
   "metadata": {},
   "outputs": [],
   "source": [
    "# 3월달까지의 데이터\n",
    "df_1q = df7.loc[cond1]"
   ]
  },
  {
   "cell_type": "code",
   "execution_count": 7,
   "id": "34aa7ffd",
   "metadata": {},
   "outputs": [],
   "source": [
    "#판매량이 너무 많은 품목 필터링\n",
    "df_sell = df_1q['pd_c'].value_counts().reset_index()\n",
    "cond8 = df_sell['count'] < 15000\n",
    "\n",
    "low_list = df_sell.loc[cond8]['pd_c'].tolist()\n",
    "cond9 = df_1q['pd_c'].isin(low_list)\n",
    "\n",
    "df_1Q = df_1q.loc[cond9]"
   ]
  },
  {
   "cell_type": "code",
   "execution_count": 8,
   "id": "5b96d405",
   "metadata": {},
   "outputs": [
    {
     "ename": "NameError",
     "evalue": "name 'p1' is not defined",
     "output_type": "error",
     "traceback": [
      "\u001b[1;31m---------------------------------------------------------------------------\u001b[0m",
      "\u001b[1;31mNameError\u001b[0m                                 Traceback (most recent call last)",
      "Cell \u001b[1;32mIn[8], line 5\u001b[0m\n\u001b[0;32m      1\u001b[0m \u001b[38;5;66;03m# 연관분석을 위해 고객별_제품별 상품별 구매 여부(1,0) 데이터로 변환 , nan값은 0으로 \u001b[39;00m\n\u001b[0;32m      2\u001b[0m \u001b[38;5;66;03m#p1 = df_1Q.pivot_table(index=['cust', 'de_dt'], columns='pd_nm', values='Label', aggfunc='min', fill_value=0)\u001b[39;00m\n\u001b[0;32m      3\u001b[0m \n\u001b[0;32m      4\u001b[0m \u001b[38;5;66;03m#연관분석 진행, 최소 지지도 0.01\u001b[39;00m\n\u001b[1;32m----> 5\u001b[0m df_freq \u001b[38;5;241m=\u001b[39m apriori(p1, min_support \u001b[38;5;241m=\u001b[39m \u001b[38;5;241m0.008\u001b[39m, use_colnames\u001b[38;5;241m=\u001b[39m\u001b[38;5;28;01mTrue\u001b[39;00m)\n",
      "\u001b[1;31mNameError\u001b[0m: name 'p1' is not defined"
     ]
    }
   ],
   "source": [
    "\n",
    "# 연관분석을 위해 고객별_제품별 상품별 구매 여부(1,0) 데이터로 변환 , nan값은 0으로 \n",
    "#p1 = df_1Q.pivot_table(index=['cust', 'de_dt'], columns='pd_nm', values='Label', aggfunc='min', fill_value=0)\n",
    "\n",
    "#연관분석 진행, 최소 지지도 0.01\n",
    "df_freq = apriori(p1, min_support = 0.008, use_colnames=True)"
   ]
  },
  {
   "cell_type": "code",
   "execution_count": null,
   "id": "0c0a4cc1",
   "metadata": {},
   "outputs": [],
   "source": [
    "df_freq"
   ]
  },
  {
   "cell_type": "code",
   "execution_count": null,
   "id": "4ab3dff4",
   "metadata": {},
   "outputs": [],
   "source": [
    "association_rules(df_freq, metric='confidence', min_threshold=0.005)"
   ]
  },
  {
   "cell_type": "code",
   "execution_count": null,
   "id": "f7f4bc89",
   "metadata": {},
   "outputs": [],
   "source": [
    "#2분기 연관분석\n",
    "cond2 = df7['de_dt_m'] > 3\n",
    "cond3 = df7['de_dt_m'] <= 6\n",
    "\n",
    "df_2q = df7.loc[cond2 & cond3]\n",
    "\n",
    "#2분기 판매량 너무 많은 것 필터링\n",
    "df_sell2 = df_2q['pd_c'].value_counts().reset_index()\n",
    "cond10 = df_sell2['count'] < 15000\n",
    "\n",
    "low_list2 = df_sell2.loc[cond10]['pd_c'].tolist()\n",
    "cond11 = df_2q['pd_c'].isin(low_list2)\n",
    "\n",
    "df_2Q = df_2q.loc[cond11]"
   ]
  },
  {
   "cell_type": "code",
   "execution_count": null,
   "id": "9ee2a67f",
   "metadata": {},
   "outputs": [],
   "source": [
    "#p2 = df_2Q.pivot_table(index=['cust', 'de_dt'], columns='pd_nm', values='Label', aggfunc='min', fill_value=0)\n",
    "\n",
    "#연관분석 진행, 최소 지지도 0.01\n",
    "df_freq = apriori(p2, min_support = 0.007, use_colnames=True)"
   ]
  },
  {
   "cell_type": "code",
   "execution_count": null,
   "id": "7f3f84ac",
   "metadata": {},
   "outputs": [],
   "source": [
    "df_freq"
   ]
  },
  {
   "cell_type": "code",
   "execution_count": null,
   "id": "c5f526c4",
   "metadata": {},
   "outputs": [],
   "source": [
    "association_rules(df_freq, metric='confidence', min_threshold=0.001)"
   ]
  },
  {
   "cell_type": "code",
   "execution_count": null,
   "id": "8ae31d52",
   "metadata": {},
   "outputs": [],
   "source": [
    "#3분기 연관분석\n",
    "cond4 = df7['de_dt_m'] > 6 \n",
    "cond5 = df7['de_dt_m'] <= 9"
   ]
  },
  {
   "cell_type": "code",
   "execution_count": null,
   "id": "dbada10a",
   "metadata": {},
   "outputs": [],
   "source": [
    "#4분기 연관분석\n",
    "cond6 = df7['de_dt_m'] > 9\n",
    "cond7 = df7['de_dt_m'] <= 12"
   ]
  },
  {
   "cell_type": "code",
   "execution_count": null,
   "id": "eb840b6c",
   "metadata": {},
   "outputs": [],
   "source": [
    "#연령대별로 \n",
    "#시간대별로 (오전 오후)\n",
    "#편의점에서 연령대별로 / 시간대별로\n",
    "\n",
    "df7"
   ]
  },
  {
   "cell_type": "code",
   "execution_count": null,
   "id": "fa34ebc1",
   "metadata": {},
   "outputs": [],
   "source": [
    "df_total = pd.read_csv('total_yutong.csv')"
   ]
  },
  {
   "cell_type": "code",
   "execution_count": null,
   "id": "3bef4bbe",
   "metadata": {},
   "outputs": [],
   "source": [
    "df_total['Label'] = 1"
   ]
  },
  {
   "cell_type": "markdown",
   "id": "72ded0a4",
   "metadata": {},
   "source": [
    "- 연령대별"
   ]
  },
  {
   "cell_type": "code",
   "execution_count": null,
   "id": "91a16e58",
   "metadata": {},
   "outputs": [],
   "source": [
    "#연령대별 조건\n",
    "cond12 = df_total['ages'] == '20대'\n",
    "cond13 = df_total['ages'] == '30대'\n",
    "cond14 = df_total['ages'] == '40대'\n",
    "cond15 = df_total['ages'] == '50대'\n",
    "cond16 = df_total['ages'] == '60대'"
   ]
  },
  {
   "cell_type": "code",
   "execution_count": null,
   "id": "a7898054",
   "metadata": {},
   "outputs": [],
   "source": [
    "df_20 = df_total.loc[cond12]"
   ]
  },
  {
   "cell_type": "code",
   "execution_count": null,
   "id": "ea8a635a",
   "metadata": {},
   "outputs": [],
   "source": [
    "#20대 연관분석\n",
    "list20 = df_20['pd_nm'].value_counts().reset_index().iloc[3:]['pd_nm'].tolist()\n",
    "cond17 = df_total['pd_nm'].isin(list20)\n",
    "df_21 = df_20.loc[cond17]\n"
   ]
  },
  {
   "cell_type": "code",
   "execution_count": null,
   "id": "353e0641",
   "metadata": {},
   "outputs": [],
   "source": [
    "df_21"
   ]
  },
  {
   "cell_type": "code",
   "execution_count": null,
   "id": "87875bd5",
   "metadata": {},
   "outputs": [],
   "source": [
    "p20 = df_21.pivot_table(index=['cust', 'de_dt'], columns='pd_nm', values='Label', aggfunc='min', fill_value=0)\n",
    "\n",
    "#연관분석 진행, 최소 지지도 0.01\n",
    "df_freq = apriori(p20, min_support = 0.005, use_colnames=True)\n",
    "df_freq"
   ]
  },
  {
   "cell_type": "code",
   "execution_count": null,
   "id": "8d7a934c",
   "metadata": {},
   "outputs": [],
   "source": [
    "association_rules(df_freq, metric='confidence', min_threshold=0.001)"
   ]
  },
  {
   "cell_type": "code",
   "execution_count": null,
   "id": "57ad5bb3",
   "metadata": {},
   "outputs": [],
   "source": [
    "df_total = pd.read_csv('total_yutong.csv')\n",
    "df_total['Label'] = 1"
   ]
  },
  {
   "cell_type": "code",
   "execution_count": null,
   "id": "70bfacf8",
   "metadata": {
    "scrolled": false
   },
   "outputs": [],
   "source": [
    "#30대 반기 필터링\n",
    "df_30 = df_total.loc[cond13]\n",
    "df_30['de_dt_m'] =  pd.to_datetime(df_30['de_dt'], format = '%Y%m%d').dt.month\n",
    "cond19 = df_30['de_dt_m'] < 4\n",
    "df_30_h = df_30.loc[cond19]\n",
    "\n",
    "list30 = df_30_h['pd_nm'].value_counts().reset_index().iloc[1:1000]['pd_nm'].tolist()\n",
    "cond18 = df_total['pd_nm'].isin(list30)\n",
    "df_31 = df_total.loc[cond18]\n",
    "\n",
    "#30대 연관분석\n",
    "p30 = df_31.pivot_table(index=['cust', 'de_dt'], columns='pd_nm', values='Label', aggfunc='min', fill_value=0)\n",
    "\n",
    "#연관분석 진행, 최소 지지도 0.01\n",
    "df_freq3 = apriori(p30, min_support = 0.05, use_colnames=True)\n",
    "df_freq3"
   ]
  },
  {
   "cell_type": "code",
   "execution_count": null,
   "id": "83715e22",
   "metadata": {},
   "outputs": [],
   "source": [
    "p30"
   ]
  },
  {
   "cell_type": "code",
   "execution_count": null,
   "id": "8289e366",
   "metadata": {},
   "outputs": [],
   "source": [
    "association_rules(df_freq3, metric='confidence', min_threshold=0.01)"
   ]
  },
  {
   "cell_type": "code",
   "execution_count": null,
   "id": "b6eba573",
   "metadata": {},
   "outputs": [],
   "source": [
    "p30"
   ]
  },
  {
   "cell_type": "code",
   "execution_count": null,
   "id": "174a62b2",
   "metadata": {},
   "outputs": [],
   "source": [
    "#40대 필터링\n",
    "df_40 = df_total.loc[cond14]\n",
    "list40 = df_40['pd_nm'].value_counts().reset_index().iloc[3:1500]['pd_nm'].tolist()\n",
    "cond20 = df_total['pd_nm'].isin(list40)\n",
    "df_41 = df_total.loc[cond19]\n",
    "\n",
    "#40대 연관분석\n",
    "p40 = df_41.pivot_table(index=['cust', 'de_dt'], columns='pd_nm', values='Label', aggfunc='min', fill_value=0)\n",
    "\n",
    "#연관분석 진행, 최소 지지도 0.01\n",
    "df_freq4 = apriori(p40, min_support = 0.007, use_colnames=True)\n",
    "df_freq4"
   ]
  },
  {
   "cell_type": "code",
   "execution_count": null,
   "id": "fb3cf99a",
   "metadata": {},
   "outputs": [],
   "source": [
    "association_rules(df_freq4, metric='confidence', min_threshold=0.001)"
   ]
  },
  {
   "cell_type": "code",
   "execution_count": null,
   "id": "f182e45c",
   "metadata": {},
   "outputs": [],
   "source": [
    "#50대 필터링\n",
    "df_50 = df_total.loc[cond15]\n",
    "list50 = df_50['pd_nm'].value_counts().reset_index().iloc[3:1500]['pd_nm'].tolist()\n",
    "cond21 = df_total['pd_nm'].isin(list50)\n",
    "df_51 = df_total.loc[cond19]\n",
    "\n",
    "#50대 연관분석\n",
    "p50 = df_51.pivot_table(index=['cust', 'de_dt'], columns='pd_nm', values='Label', aggfunc='min', fill_value=0)\n",
    "\n",
    "#연관분석 진행, 최소 지지도 0.01\n",
    "df_freq5 = apriori(p50, min_support = 0.007, use_colnames=True)\n",
    "df_freq5"
   ]
  },
  {
   "cell_type": "markdown",
   "id": "58dff552",
   "metadata": {},
   "source": [
    "- 시간대별 필터링"
   ]
  },
  {
   "cell_type": "code",
   "execution_count": null,
   "id": "e314712f",
   "metadata": {},
   "outputs": [],
   "source": [
    "#시간대별 설정\n",
    "cond_mor = df_total['de_hr'] < 13\n",
    "cond_after = df_total['de_hr'] < 19\n",
    "cond_eve = df_total['de_hr'] < 24\n",
    "cond_1q = df_total['de_dt_m'] < 4 "
   ]
  },
  {
   "cell_type": "code",
   "execution_count": null,
   "id": "a359bcc7",
   "metadata": {},
   "outputs": [],
   "source": [
    "#1분기 오전 시간대\n",
    "df_total_1q_m = df_total.loc[cond_mor & cond_1q]\n",
    "\n",
    "list_m = df_total_1q_m['pd_nm'].value_counts().reset_index().iloc[3:1500]['pd_nm'].tolist()\n",
    "cond23 = df_total_1q_m['pd_nm'].isin(list_m)\n",
    "df_m = df_total.loc[cond23]\n",
    "\n",
    "#반기 오전 시간대 연관분석\n",
    "p13 = df_m.pivot_table(index=['cust', 'de_dt'], columns='pd_nm', values='Label', aggfunc='min', fill_value=0)\n",
    "\n",
    "#연관분석 진행, 최소 지지도 0.01\n",
    "df_freq13 = apriori(p13, min_support = 0.02, use_colnames=True)\n",
    "df_freq13"
   ]
  },
  {
   "cell_type": "code",
   "execution_count": null,
   "id": "ae928fa5",
   "metadata": {},
   "outputs": [],
   "source": [
    "#1분기 오후 시간대\n",
    "df_total_1q_a = df_total.loc[cond_after & cond_1q]\n",
    "\n",
    "list_a = df_total_1q_a['pd_nm'].value_counts().reset_index().iloc[3:1500]['pd_nm'].tolist()\n",
    "cond24 = df_total_1q_a['pd_nm'].isin(list_a)\n",
    "df_a = df_total.loc[cond24]\n",
    "\n",
    "#반기 오후 시간대 연관분석\n",
    "p19 = df_a.pivot_table(index=['cust', 'de_dt'], columns='pd_nm', values='Label', aggfunc='min', fill_value=0)\n",
    "\n",
    "#연관분석 진행, 최소 지지도 0.01\n",
    "df_freq19 = apriori(p19, min_support = 0.02, use_colnames=True)\n",
    "df_freq19"
   ]
  },
  {
   "cell_type": "code",
   "execution_count": null,
   "id": "048505d1",
   "metadata": {},
   "outputs": [],
   "source": [
    "#1분기 저녁 시간대\n",
    "df_total_1q_e = df_total.loc[cond_eve & cond_1q]\n",
    "\n",
    "list_e = df_total_1q_e['pd_nm'].value_counts().reset_index().iloc[3:1500]['pd_nm'].tolist()\n",
    "cond25 = df_total_1q_e['pd_nm'].isin(list_e)\n",
    "df_e = df_total.loc[cond25]\n",
    "\n",
    "#반기 저녁 시간대 연관분석\n",
    "p24 = df_e.pivot_table(index=['cust', 'de_dt'], columns='pd_nm', values='Label', aggfunc='min', fill_value=0)\n",
    "\n",
    "#연관분석 진행, 최소 지지도 0.01\n",
    "df_freq24 = apriori(p24, min_support = 0.02, use_colnames=True)\n",
    "df_freq24"
   ]
  },
  {
   "cell_type": "markdown",
   "id": "1a89a155",
   "metadata": {},
   "source": [
    "- 세븐일레븐"
   ]
  },
  {
   "cell_type": "code",
   "execution_count": null,
   "id": "bf02e71b",
   "metadata": {},
   "outputs": [],
   "source": [
    "#세븐일레븐\n",
    "df_total\n",
    "cond77 = df_total['cop_c_x'] == 'A04'\n",
    "df_seven = df_total.loc[cond77]"
   ]
  },
  {
   "cell_type": "code",
   "execution_count": null,
   "id": "4c88f52a",
   "metadata": {},
   "outputs": [],
   "source": [
    "cond13 = df_seven['de_hr'] < 13\n",
    "cond19_1 = df_seven['de_hr'] >= 13\n",
    "cond19 = df_seven['de_hr'] < 19\n",
    "cond24_1  = df_seven['de_hr'] >=24\n",
    "cond24 = df_seven['de_hr'] < 24"
   ]
  },
  {
   "cell_type": "code",
   "execution_count": null,
   "id": "5d119e29",
   "metadata": {},
   "outputs": [],
   "source": [
    "#세븐일레븐 오전시간 연관분석\n",
    "\n",
    "df_seven_mor = df_seven.loc[cond13]\n",
    "cond78 = df_seven_mor['pd_nm'] != '기타생활서비스'\n",
    "cond79 = df_seven_mor['pd_nm'] != '봉투보증금'\n",
    "df_77 = df_seven_mor.loc[cond78 & cond79]\n",
    "\n"
   ]
  },
  {
   "cell_type": "code",
   "execution_count": null,
   "id": "24b35abf",
   "metadata": {},
   "outputs": [],
   "source": [
    "p77 = df_77.pivot_table(index=['cust', 'de_dt'], columns='pd_nm', values='Label', aggfunc='min', fill_value=0)\n",
    "\n",
    "df_freq_seven = apriori(p77, min_support = 0.01, use_colnames=True)\n",
    "df_freq_seven"
   ]
  },
  {
   "cell_type": "code",
   "execution_count": null,
   "id": "3afa3fb9",
   "metadata": {},
   "outputs": [],
   "source": [
    "#세븐일레븐 오전시간 연관분석\n",
    "association_rules(df_freq_seven, metric='confidence', min_threshold=0.01)"
   ]
  },
  {
   "cell_type": "code",
   "execution_count": null,
   "id": "6d3c7494",
   "metadata": {},
   "outputs": [],
   "source": [
    "#세븐일레븐 오후시간 연관분석\n",
    "\n",
    "df_seven_a = df_seven.loc[cond19]\n",
    "cond78 = df_seven_a['pd_nm'] != '기타생활서비스'\n",
    "cond79 = df_seven_a['pd_nm'] != '봉투보증금'\n",
    "df_77_a = df_seven_a.loc[cond78 & cond79]\n",
    "\n",
    "p77 = df_77_a.pivot_table(index=['cust', 'de_dt'], columns='pd_nm', values='Label', aggfunc='min', fill_value=0)\n",
    "\n",
    "df_freq_seven_a = apriori(p77, min_support = 0.01, use_colnames=True)\n",
    "df_freq_seven_a\n",
    "\n",
    "#세븐일레븐 오후시간 연관분석\n",
    "association_rules(df_freq_seven_a, metric='confidence', min_threshold=0.01)"
   ]
  },
  {
   "cell_type": "code",
   "execution_count": null,
   "id": "aa6d61b0",
   "metadata": {},
   "outputs": [],
   "source": [
    "#세븐일레븐 저녁시간 연관분석\n",
    "\n",
    "df_seven_e = df_seven.loc[cond24]\n",
    "cond78 = df_seven_e['pd_nm'] != '기타생활서비스'\n",
    "cond79 = df_seven_e['pd_nm'] != '봉투보증금'\n",
    "df_77_e = df_seven_e.loc[cond78 & cond79]\n",
    "\n",
    "p77 = df_77_e.pivot_table(index=['cust', 'de_dt'], columns='pd_nm', values='Label', aggfunc='min', fill_value=0)\n",
    "\n",
    "df_freq_seven_e = apriori(p77, min_support = 0.01, use_colnames=True)\n",
    "df_freq_seven_e\n",
    "\n",
    "#세븐일레븐 저녁시간 연관분석\n",
    "association_rules(df_freq_seven_e, metric='confidence', min_threshold=0.01)"
   ]
  },
  {
   "cell_type": "code",
   "execution_count": null,
   "id": "2f39d057",
   "metadata": {
    "scrolled": true
   },
   "outputs": [],
   "source": [
    "df_freq_seven_e.sort_values(by='support', ascending=False)"
   ]
  },
  {
   "cell_type": "code",
   "execution_count": null,
   "id": "c4991bf6",
   "metadata": {},
   "outputs": [],
   "source": [
    "#세븐일레븐 전체 연관분석\n",
    "\n",
    "cond78 = df_seven['pd_nm'] != '기타생활서비스'\n",
    "cond79 = df_seven['pd_nm'] != '봉투보증금'\n",
    "df77 = df_seven.loc[cond78 & cond79]\n",
    "\n",
    "p77 = df77.pivot_table(index=['cust', 'de_dt'], columns='pd_nm', values='Label', aggfunc='min', fill_value=0)\n",
    "\n",
    "df_freq_seven= apriori(p77, min_support = 0.005, use_colnames=True)\n",
    "df_freq_seven\n",
    "\n",
    "#세븐일레븐 전체 연관분석\n",
    "seven_all = association_rules(df_freq_seven, metric='confidence', min_threshold=0.005)"
   ]
  },
  {
   "cell_type": "code",
   "execution_count": null,
   "id": "aa660f6a",
   "metadata": {},
   "outputs": [],
   "source": [
    "seven_all"
   ]
  },
  {
   "cell_type": "code",
   "execution_count": null,
   "id": "407aa08a",
   "metadata": {},
   "outputs": [],
   "source": [
    "seven_all.sort_values(by='lift', ascending=False).tail(60)"
   ]
  },
  {
   "cell_type": "code",
   "execution_count": null,
   "id": "f8a62607",
   "metadata": {},
   "outputs": [],
   "source": [
    "#시간대별 설정\n",
    "cond_mor = df_total['de_hr'] < 13\n",
    "cond_after_1 = df_total['de_hr'] >=13\n",
    "cond_after = df_total['de_hr'] < 19\n",
    "cond_eve_1 = df_total['de_hr'] >=19\n",
    "cond_eve = df_total['de_hr'] < 24\n",
    "df_total['de_dt_m'] =  pd.to_datetime(df_total['de_dt'], format = '%Y%m%d').dt.month\n",
    "cond_1q = df_total['de_dt_m'] < 4 \n",
    "cond_2q_1 = df_total['de_dt_m'] >= 4\n",
    "cond_2q = df_total['de_dt_m'] < 7\n",
    "cond_3q_1 = df_total['de_dt_m'] >= 7\n",
    "cond_3q = df_total['de_dt_m'] < 10 \n",
    "cond_4q_1 = df_total['de_dt_m'] >= 10\n",
    "cond_4q = df_total['de_dt_m'] < 13"
   ]
  },
  {
   "cell_type": "code",
   "execution_count": null,
   "id": "e44c9a9f",
   "metadata": {},
   "outputs": [],
   "source": [
    "#2분기 오전 시간대\n",
    "df_total_2q_m = df_total.loc[cond_mor & cond_2q & cond_2q_1]\n",
    "\n",
    "list_m = df_total_2q_m['pd_nm'].value_counts().reset_index().iloc[3:]['pd_nm'].tolist()\n",
    "cond23 = df_total_2q_m['pd_nm'].isin(list_m)\n",
    "df_m = df_total_2q_m.loc[cond23]\n",
    "\n",
    "#반기 오전 시간대 연관분석\n",
    "p13 = df_m.pivot_table(index=['cust', 'de_dt'], columns='pd_nm', values='Label', aggfunc='min', fill_value=0)\n",
    "\n",
    "#연관분석 진행, 최소 지지도 0.01\n",
    "df_freq13 = apriori(p13, min_support = 0.01, use_colnames=True)\n",
    "df_freq13\n",
    "\n",
    "df_total_2Q_M = association_rules(df_freq13, metric='confidence', min_threshold=0.01)\n",
    "\n",
    "df_total_2Q_M"
   ]
  },
  {
   "cell_type": "code",
   "execution_count": null,
   "id": "2c91021a",
   "metadata": {},
   "outputs": [],
   "source": [
    "#2분기 오후 시간대\n",
    "df_total_2q_a = df_total.loc[cond_after & cond_after_1 & cond_2q & cond_2q_1]\n",
    "\n",
    "list_a = df_total_2q_a['pd_nm'].value_counts().reset_index().iloc[3:]['pd_nm'].tolist()\n",
    "cond23 = df_total_2q_a['pd_nm'].isin(list_a)\n",
    "df_a = df_total_2q_a.loc[cond23]\n",
    "\n",
    "#반기 오전 시간대 연관분석\n",
    "p19 = df_a.pivot_table(index=['cust', 'de_dt'], columns='pd_nm', values='Label', aggfunc='min', fill_value=0)\n",
    "\n",
    "#연관분석 진행, 최소 지지도 0.01\n",
    "df_freq19 = apriori(p19, min_support = 0.01, use_colnames=True)\n",
    "df_freq19\n",
    "\n",
    "df_total_2Q_A = association_rules(df_freq19, metric='confidence', min_threshold=0.01)\n",
    "\n",
    "df_total_2Q_A"
   ]
  },
  {
   "cell_type": "code",
   "execution_count": null,
   "id": "aa3d20d6",
   "metadata": {
    "scrolled": true
   },
   "outputs": [],
   "source": [
    "#2분기 저녁 시간대\n",
    "df_total_2q_e = df_total.loc[cond_eve & cond_eve_1 & cond_2q & cond_2q_1]\n",
    "\n",
    "list_e = df_total_2q_e['pd_nm'].value_counts().reset_index().iloc[3:]['pd_nm'].tolist()\n",
    "cond23 = df_total_2q_e['pd_nm'].isin(list_e)\n",
    "df_e = df_total_2q_e.loc[cond23]\n",
    "\n",
    "#2분기 저녁 시간대 연관분석\n",
    "p24 = df_e.pivot_table(index=['cust', 'de_dt'], columns='pd_nm', values='Label', aggfunc='min', fill_value=0)\n",
    "\n",
    "#연관분석 진행, 최소 지지도 0.01\n",
    "df_freq24 = apriori(p24, min_support = 0.01, use_colnames=True)\n",
    "df_freq24\n",
    "\n",
    "df_total_2Q_E = association_rules(df_freq24, metric='confidence', min_threshold=0.01)\n",
    "\n",
    "df_total_2Q_E"
   ]
  },
  {
   "cell_type": "code",
   "execution_count": null,
   "id": "e39dd9b7",
   "metadata": {},
   "outputs": [],
   "source": [
    "#3분기 오전 시간대\n",
    "df_total_3q_m = df_total.loc[cond_mor & cond_3q & cond_3q_1]\n",
    "\n",
    "list_m = df_total_3q_m['pd_nm'].value_counts().reset_index().iloc[3:]['pd_nm'].tolist()\n",
    "cond23 = df_total_3q_m['pd_nm'].isin(list_m)\n",
    "df_m = df_total_3q_m.loc[cond23]\n",
    "\n",
    "#3분기 오전 시간대 연관분석\n",
    "p13 = df_m.pivot_table(index=['cust', 'de_dt'], columns='pd_nm', values='Label', aggfunc='min', fill_value=0)\n",
    "\n",
    "#연관분석 진행, 최소 지지도 0.01\n",
    "df_freq13 = apriori(p13, min_support = 0.01, use_colnames=True)\n",
    "df_freq13\n",
    "\n",
    "df_total_3Q_M = association_rules(df_freq13, metric='confidence', min_threshold=0.01)\n",
    "\n",
    "df_total_3Q_M"
   ]
  },
  {
   "cell_type": "code",
   "execution_count": null,
   "id": "63dc5eb7",
   "metadata": {},
   "outputs": [],
   "source": [
    "#3분기 오후 시간대\n",
    "df_total_3q_a = df_total.loc[cond_after & cond_after_1 & cond_3q & cond_3q_1]\n",
    "\n",
    "list_a = df_total_3q_a['pd_nm'].value_counts().reset_index().iloc[3:]['pd_nm'].tolist()\n",
    "cond23 = df_total_3q_a['pd_nm'].isin(list_a)\n",
    "df_a = df_total_3q_a.loc[cond23]\n",
    "\n",
    "#3분기 오후 시간대 연관분석\n",
    "p19 = df_a.pivot_table(index=['cust', 'de_dt'], columns='pd_nm', values='Label', aggfunc='min', fill_value=0)\n",
    "\n",
    "#연관분석 진행, 최소 지지도 0.01\n",
    "df_freq19 = apriori(p19, min_support = 0.01, use_colnames=True)\n",
    "df_freq19\n",
    "\n",
    "df_total_3Q_A = association_rules(df_freq19, metric='confidence', min_threshold=0.01)\n",
    "\n",
    "df_total_3Q_A"
   ]
  },
  {
   "cell_type": "code",
   "execution_count": null,
   "id": "c3910b6c",
   "metadata": {},
   "outputs": [],
   "source": [
    "#3분기 저녁 시간대\n",
    "df_total_3q_e = df_total.loc[cond_eve & cond_eve_1 & cond_3q & cond_3q_1]\n",
    "\n",
    "list_e = df_total_3q_e['pd_nm'].value_counts().reset_index().iloc[3:]['pd_nm'].tolist()\n",
    "cond23 = df_total_3q_e['pd_nm'].isin(list_e)\n",
    "df_e = df_total_3q_e.loc[cond23]\n",
    "\n",
    "#3분기 저녁 시간대 연관분석\n",
    "p24 = df_e.pivot_table(index=['cust', 'de_dt'], columns='pd_nm', values='Label', aggfunc='min', fill_value=0)\n",
    "\n",
    "#연관분석 진행, 최소 지지도 0.01\n",
    "df_freq24 = apriori(p24, min_support = 0.01, use_colnames=True)\n",
    "df_freq24\n",
    "\n",
    "df_total_3Q_E = association_rules(df_freq24, metric='confidence', min_threshold=0.01)\n",
    "\n",
    "df_total_3Q_E"
   ]
  },
  {
   "cell_type": "code",
   "execution_count": null,
   "id": "2d755336",
   "metadata": {},
   "outputs": [],
   "source": [
    "#4분기 오전 시간대\n",
    "df_total_4q_m = df_total.loc[cond_mor & cond_4q & cond_4q_1]\n",
    "\n",
    "list_m = df_total_4q_m['pd_nm'].value_counts().reset_index().iloc[3:]['pd_nm'].tolist()\n",
    "cond23 = df_total_4q_m['pd_nm'].isin(list_m)\n",
    "df_m = df_total_4q_m.loc[cond23]\n",
    "\n",
    "#4분기 오전 시간대 연관분석\n",
    "p13 = df_m.pivot_table(index=['cust', 'de_dt'], columns='pd_nm', values='Label', aggfunc='min', fill_value=0)\n",
    "\n",
    "#연관분석 진행, 최소 지지도 0.01\n",
    "df_freq13 = apriori(p13, min_support = 0.005, use_colnames=True)\n",
    "df_freq13\n",
    "\n",
    "df_total_4Q_M = association_rules(df_freq13, metric='confidence', min_threshold=0.01)\n",
    "\n",
    "df_total_4Q_M"
   ]
  },
  {
   "cell_type": "code",
   "execution_count": null,
   "id": "a4e212be",
   "metadata": {},
   "outputs": [],
   "source": [
    "#4분기 오후 시간대\n",
    "df_total_4q_a = df_total.loc[cond_after & cond_after_1 & cond_4q & cond_4q_1]\n",
    "\n",
    "list_a = df_total_4q_a['pd_nm'].value_counts().reset_index().iloc[3:]['pd_nm'].tolist()\n",
    "cond23 = df_total_4q_a['pd_nm'].isin(list_a)\n",
    "df_a = df_total_4q_a.loc[cond23]\n",
    "\n",
    "#4분기 오후 시간대 연관분석\n",
    "p19 = df_a.pivot_table(index=['cust', 'de_dt'], columns='pd_nm', values='Label', aggfunc='min', fill_value=0)\n",
    "\n",
    "#연관분석 진행, 최소 지지도 0.01\n",
    "df_freq19 = apriori(p19, min_support = 0.01, use_colnames=True)\n",
    "df_freq19\n",
    "\n",
    "df_total_4Q_A = association_rules(df_freq19, metric='confidence', min_threshold=0.01)\n",
    "\n",
    "df_total_4Q_A"
   ]
  },
  {
   "cell_type": "code",
   "execution_count": null,
   "id": "9572932b",
   "metadata": {},
   "outputs": [],
   "source": [
    "#4분기 저녁 시간대\n",
    "df_total_4q_e = df_total.loc[cond_eve & cond_eve_1 & cond_4q & cond_4q_1]\n",
    "\n",
    "list_e = df_total_4q_e['pd_nm'].value_counts().reset_index().iloc[3:]['pd_nm'].tolist()\n",
    "cond23 = df_total_4q_e['pd_nm'].isin(list_e)\n",
    "df_e = df_total_4q_e.loc[cond23]\n",
    "\n",
    "#4분기 저녁 시간대 연관분석\n",
    "p24 = df_e.pivot_table(index=['cust', 'de_dt'], columns='pd_nm', values='Label', aggfunc='min', fill_value=0)\n",
    "\n",
    "#연관분석 진행, 최소 지지도 0.01\n",
    "df_freq24 = apriori(p24, min_support = 0.01, use_colnames=True)\n",
    "df_freq24\n",
    "\n",
    "df_total_4Q_E = association_rules(df_freq24, metric='confidence', min_threshold=0.01)\n",
    "\n",
    "df_total_4Q_E"
   ]
  },
  {
   "cell_type": "code",
   "execution_count": null,
   "id": "155ae880",
   "metadata": {},
   "outputs": [],
   "source": [
    "#하이마트 분석 A05\n",
    "#롯데마트 A02\n",
    "\n",
    "#롯데마트 - 하이마트 분석 ( 하이마트 산 사람만 뽑아내기)\n",
    " \n",
    "cond_depart = df_total['cop_c_x'] == 'A01' #롯데백화점\n",
    "cond_lm = df_total['cop_c_x'] == 'A02' #롯데마트\n",
    "cond_super = df_total['cop_c_x'] == 'A03' #롯데슈퍼\n",
    "cond_h = df_total['cop_c_x'] == 'A05' #하이마트\n",
    "\n",
    "df_himart = df_total.loc[cond_h]\n",
    "df_lottemart = df_total.loc[cond_lm]\n",
    "df_super = df_total.loc[cond_super]\n",
    "df_depart = df_total.loc[cond_depart]"
   ]
  },
  {
   "cell_type": "code",
   "execution_count": null,
   "id": "c7a66859",
   "metadata": {},
   "outputs": [],
   "source": [
    "#하이마트 - 롯데마트 결합\n",
    "df_himart_mart = pd.merge(df_himart, df_lottemart, on=['cust', 'de_dt'], how='left')"
   ]
  },
  {
   "cell_type": "code",
   "execution_count": null,
   "id": "d0595f2e",
   "metadata": {},
   "outputs": [],
   "source": [
    "df_himart_mart['Label'] = 1"
   ]
  },
  {
   "cell_type": "code",
   "execution_count": null,
   "id": "43fda9a4",
   "metadata": {},
   "outputs": [],
   "source": [
    "df_himart_mart.columns"
   ]
  },
  {
   "cell_type": "code",
   "execution_count": null,
   "id": "1aa36827",
   "metadata": {},
   "outputs": [],
   "source": [
    "#하이마트-마트 연관분석\n",
    "p24 = df_himart_mart.pivot_table(index=['cust', 'de_dt'], columns='pd_nm_x', values='Label_x', aggfunc='min', fill_value=0)\n",
    "\n",
    "#연관분석 진행, 최소 지지도 0.01\n",
    "df_freq24 = apriori(p24, min_support = 0.002, use_colnames=True)\n",
    "df_freq24\n",
    "\n",
    "df_himart2 = association_rules(df_freq24, metric='confidence', min_threshold=0.002).tail(60)\n",
    "\n",
    "df_himart2"
   ]
  },
  {
   "cell_type": "code",
   "execution_count": null,
   "id": "1870da41",
   "metadata": {},
   "outputs": [],
   "source": [
    "df_himart_mart['pd_nm_x']"
   ]
  },
  {
   "cell_type": "code",
   "execution_count": null,
   "id": "b68df1fd",
   "metadata": {},
   "outputs": [],
   "source": [
    "#하이마트 - 롯데슈퍼 결합\n",
    "df_himart_super = pd.merge(df_himart, df_super, on=['cust', 'de_dt'], how='left')\n",
    "df_himart_super"
   ]
  },
  {
   "cell_type": "code",
   "execution_count": null,
   "id": "2811d40a",
   "metadata": {},
   "outputs": [],
   "source": [
    "#하이마트 - 백화점 결합\n",
    "df_himart_depart = pd.merge(df_himart, df_depart, on=['cust', 'de_dt'], how='left')\n",
    "df_himart_depart\n",
    "\n",
    "#하이마트-마트 연관분석\n",
    "p24 = df_himart_depart.pivot_table(index=['cust', 'de_dt'], columns='pd_nm_x', values='Label_x', aggfunc='min', fill_value=0)\n",
    "\n",
    "#연관분석 진행, 최소 지지도 0.01\n",
    "df_freq24 = apriori(p24, min_support = 0.001, use_colnames=True)\n",
    "df_freq24\n",
    "\n",
    "df_himart_depart = association_rules(df_freq24, metric='confidence', min_threshold=0.001)\n",
    "\n",
    "df_himart_depart.sort_values(by='support').head(100)"
   ]
  },
  {
   "cell_type": "code",
   "execution_count": null,
   "id": "09534259",
   "metadata": {},
   "outputs": [],
   "source": [
    "df_lottemart"
   ]
  },
  {
   "cell_type": "code",
   "execution_count": null,
   "id": "f8961c9c",
   "metadata": {},
   "outputs": [],
   "source": [
    "df_seven"
   ]
  },
  {
   "cell_type": "code",
   "execution_count": null,
   "id": "03a1abd3",
   "metadata": {},
   "outputs": [],
   "source": [
    "df_depart"
   ]
  },
  {
   "cell_type": "code",
   "execution_count": null,
   "id": "1e8bcd3f",
   "metadata": {},
   "outputs": [],
   "source": [
    "df_lottemart"
   ]
  },
  {
   "cell_type": "code",
   "execution_count": null,
   "id": "fbf38d02",
   "metadata": {},
   "outputs": [],
   "source": [
    "#시간대별 설정\n",
    "cond_mor = df_total['de_hr'] < 13\n",
    "cond_after_1 = df_total['de_hr'] >=13\n",
    "cond_after = df_total['de_hr'] < 19\n",
    "cond_eve_1 = df_total['de_hr'] >=19\n",
    "cond_eve = df_total['de_hr'] < 24\n",
    "df_total['de_dt_m'] =  pd.to_datetime(df_total['de_dt'], format = '%Y%m%d').dt.month\n",
    "cond_1q = df_total['de_dt_m'] < 4 \n",
    "cond_2q_1 = df_total['de_dt_m'] >= 4\n",
    "cond_2q = df_total['de_dt_m'] < 7\n",
    "cond_3q_1 = df_total['de_dt_m'] >= 7\n",
    "cond_3q = df_total['de_dt_m'] < 10 \n",
    "cond_4q_1 = df_total['de_dt_m'] >= 10\n",
    "cond_4q = df_total['de_dt_m'] < 13\n",
    "cond_depart = df_total['cop_c_x'] == 'A01' #롯데백화점\n",
    "cond_lm = df_total['cop_c_x'] == 'A02' #롯데마트\n",
    "cond_super = df_total['cop_c_x'] == 'A03' #롯데슈퍼\n",
    "cond_h = df_total['cop_c_x'] == 'A05' #하이마트\n",
    "\n",
    "df_himart = df_total.loc[cond_h]\n",
    "df_lottemart = df_total.loc[cond_lm]\n",
    "df_super = df_total.loc[cond_super]\n",
    "df_depart = df_total.loc[cond_depart]"
   ]
  },
  {
   "cell_type": "code",
   "execution_count": null,
   "id": "88378533",
   "metadata": {},
   "outputs": [],
   "source": [
    "#롯데마트 1분기\n",
    "df_lotte_1q = df_total.loc[cond_1q & cond_lm]\n",
    "\n",
    "#하이마트-마트 연관분석\n",
    "p24 = df_lotte_1q.pivot_table(index=['cust', 'de_dt'], columns='pd_nm', values='Label', aggfunc='min', fill_value=0)\n",
    "\n",
    "#연관분석 진행, 최소 지지도 0.01\n",
    "df_freq24 = apriori(p24, min_support = 0.01, use_colnames=True)\n",
    "df_freq24\n",
    "\n",
    "df_lotte_1Q = association_rules(df_freq24, metric='confidence', min_threshold=0.01)\n",
    "df_lotte_1Q"
   ]
  },
  {
   "cell_type": "code",
   "execution_count": null,
   "id": "2ffe51ac",
   "metadata": {},
   "outputs": [],
   "source": []
  },
  {
   "cell_type": "code",
   "execution_count": null,
   "id": "5b6ae580",
   "metadata": {},
   "outputs": [],
   "source": [
    "#롯데마트 2분기\n",
    "df_lotte_2q1 = df_total.loc[cond_2q & cond_lm]\n",
    "list_m = df_lotte_2q1['pd_nm'].value_counts().reset_index().iloc[2:]['pd_nm'].tolist()\n",
    "cond23 = df_lotte_2q1['pd_nm'].isin(list_m)\n",
    "df_lotte_2q = df_lotte_2q1.loc[cond23]\n",
    "\n",
    "#하이마트-마트 연관분석\n",
    "p24 = df_lotte_2q.pivot_table(index=['cust', 'de_dt'], columns='pd_nm', values='Label', aggfunc='min', fill_value=0)\n",
    "\n",
    "#연관분석 진행, 최소 지지도 0.01\n",
    "df_freq24 = apriori(p24, min_support = 0.01, use_colnames=True)\n",
    "df_freq24\n",
    "\n",
    "df_lotte_2Q = association_rules(df_freq24, metric='confidence', min_threshold=0.01)\n",
    "df_lotte_2Q"
   ]
  },
  {
   "cell_type": "code",
   "execution_count": null,
   "id": "852a01b6",
   "metadata": {},
   "outputs": [],
   "source": [
    "df_lotte_2Q.head(60)"
   ]
  },
  {
   "cell_type": "code",
   "execution_count": null,
   "id": "d82d7381",
   "metadata": {},
   "outputs": [],
   "source": [
    "#롯데마트 3분기\n",
    "df_lotte_3q1 = df_total.loc[cond_3q & cond_lm]\n",
    "list_m = df_lotte_3q1['pd_nm'].value_counts().reset_index().iloc[2:]['pd_nm'].tolist()\n",
    "cond23 = df_lotte_3q1['pd_nm'].isin(list_m)\n",
    "df_lotte_3q = df_lotte_3q1.loc[cond23]\n",
    "\n",
    "#하이마트-마트 연관분석\n",
    "p24 = df_lotte_3q.pivot_table(index=['cust', 'de_dt'], columns='pd_nm', values='Label', aggfunc='min', fill_value=0)\n",
    "\n",
    "#연관분석 진행, 최소 지지도 0.01\n",
    "df_freq24 = apriori(p24, min_support = 0.015, use_colnames=True)\n",
    "df_freq24\n",
    "\n",
    "df_lotte_3Q = association_rules(df_freq24, metric='confidence', min_threshold=0.015)\n",
    "df_lotte_3Q"
   ]
  },
  {
   "cell_type": "code",
   "execution_count": null,
   "id": "55a2461f",
   "metadata": {},
   "outputs": [],
   "source": [
    "#롯데마트 4분기\n",
    "df_lotte_4q1 = df_total.loc[cond_4q & cond_lm]\n",
    "list_m = df_lotte_4q1['pd_nm'].value_counts().reset_index().iloc[3:]['pd_nm'].tolist()\n",
    "list_m.remove('종량제봉투')\n",
    "cond23 = df_lotte_4q1['pd_nm'].isin(list_m)\n",
    "df_lotte_4q = df_lotte_4q1.loc[cond23]\n",
    "\n",
    "#하이마트-마트 연관분석\n",
    "p24 = df_lotte_4q.pivot_table(index=['cust', 'de_dt'], columns='pd_nm', values='Label', aggfunc='min', fill_value=0)\n",
    "\n",
    "#연관분석 진행, 최소 지지도 0.01\n",
    "df_freq24 = apriori(p24, min_support = 0.015, use_colnames=True)\n",
    "df_freq24\n",
    "\n",
    "df_lotte_4Q = association_rules(df_freq24, metric='confidence', min_threshold=0.015)\n",
    "df_lotte_4Q"
   ]
  },
  {
   "cell_type": "code",
   "execution_count": null,
   "id": "b64ee730",
   "metadata": {},
   "outputs": [],
   "source": [
    "df5"
   ]
  },
  {
   "cell_type": "code",
   "execution_count": null,
   "id": "d97eb3bc",
   "metadata": {},
   "outputs": [],
   "source": [
    "df_total\n",
    "#식료품이 경제상황에 따른 가격변동이 심하다.\n",
    "#식료품이 중요하다?\n",
    "#식료품 자영업자들을 타겟으로 한 사업. -> 이 고객군들이 우리 플랫폼을 이용함으로써 매출 상승을 이뤄내야 함\n"
   ]
  },
  {
   "cell_type": "code",
   "execution_count": null,
   "id": "23a65a20",
   "metadata": {},
   "outputs": [],
   "source": [
    "df_re = pd.read_excel('L4_pd_분류수정.xlsx')"
   ]
  },
  {
   "cell_type": "code",
   "execution_count": null,
   "id": "5cd30241",
   "metadata": {},
   "outputs": [],
   "source": [
    "df_total_re = pd.merge(df_total, df_re, on='pd_c', how='left')"
   ]
  },
  {
   "cell_type": "code",
   "execution_count": null,
   "id": "5a04f996",
   "metadata": {},
   "outputs": [],
   "source": [
    "cond100 = df_total_re['대분류'] == '식료품'\n",
    "\n",
    "len(df_total_re.loc[cond100]) / len(df_total_re) *100 \n",
    "#긁은 거래내역에서 식료품을 차지하는 비중 (중복을 고려하지 않고)\n",
    "#식료품 -> 자주산다 ()"
   ]
  },
  {
   "cell_type": "code",
   "execution_count": null,
   "id": "d6ee29ca",
   "metadata": {},
   "outputs": [],
   "source": [
    "df_total_re.loc[cond100]"
   ]
  },
  {
   "cell_type": "code",
   "execution_count": null,
   "id": "f6394e12",
   "metadata": {},
   "outputs": [],
   "source": [
    "df_total_re.loc[cond100]['buy_am'].sum() / df_total_re['buy_am'].sum()\n"
   ]
  },
  {
   "cell_type": "code",
   "execution_count": null,
   "id": "e80d8479",
   "metadata": {},
   "outputs": [],
   "source": [
    "df_total_re.loc[cond100]['buy_am'].sum()"
   ]
  },
  {
   "cell_type": "code",
   "execution_count": null,
   "id": "db0d853a",
   "metadata": {},
   "outputs": [],
   "source": [
    "df_total_re['buy_am'].sum()"
   ]
  },
  {
   "cell_type": "code",
   "execution_count": null,
   "id": "189deb61",
   "metadata": {},
   "outputs": [],
   "source": [
    "notlist = ['PD0282', 'PD0283', 'PD0284', 'PD0285', 'PD0286', 'PD0287', 'PD0288']\n",
    "cond101 = df_total_re['pd_c'].isin(notlist)\n",
    "cond100 = df_total_re['대분류'] == '식료품'\n",
    "\n",
    "df_total_re.loc[~cond101 & cond100]['buy_am'].sum() / df_total_re.loc[~cond101]['buy_am'].sum()"
   ]
  },
  {
   "cell_type": "code",
   "execution_count": null,
   "id": "9963fb1a",
   "metadata": {},
   "outputs": [],
   "source": [
    "#롯데마트 1분기\n",
    "df_lotte_1qq = df_total.loc[cond_lm]"
   ]
  },
  {
   "cell_type": "code",
   "execution_count": null,
   "id": "583b56b2",
   "metadata": {},
   "outputs": [],
   "source": [
    "cond200 = df_lotte_1qq['pd_nm'] == '가공우유'\n",
    "tofu_custlist = df_lotte_1qq.loc[cond200]['cust'].unique().tolist()\n",
    "\n",
    "cond201 = df_lotte_1qq['cust'].isin(tofu_custlist)\n",
    "\n",
    "df_lotte_1q = df_lotte_1qq.loc[cond201]"
   ]
  },
  {
   "cell_type": "code",
   "execution_count": null,
   "id": "60be7ecf",
   "metadata": {},
   "outputs": [],
   "source": []
  },
  {
   "cell_type": "code",
   "execution_count": null,
   "id": "bc07726b",
   "metadata": {},
   "outputs": [],
   "source": [
    "#하이마트-마트 연관분석\n",
    "p24 = df_lotte_1q.pivot_table(index=['cust', 'de_dt'], columns='pd_nm', values='Label', aggfunc='min', fill_value=0)\n",
    "\n",
    "#연관분석 진행, 최소 지지도 0.01\n",
    "df_freq24 = apriori(p24, min_support = 0.02, use_colnames=True)\n",
    "df_freq24\n",
    "\n",
    "df_lotte_1Q = association_rules(df_freq24, metric='confidence', min_threshold=0.02)\n",
    "df_lotte_1Q"
   ]
  },
  {
   "cell_type": "code",
   "execution_count": null,
   "id": "fe402fa5",
   "metadata": {},
   "outputs": [],
   "source": [
    "df_lotte_1Q.head(50)"
   ]
  },
  {
   "cell_type": "code",
   "execution_count": null,
   "id": "b8bc8cf7",
   "metadata": {},
   "outputs": [],
   "source": [
    "df_lotte_1qq.loc[cond200]"
   ]
  },
  {
   "cell_type": "code",
   "execution_count": null,
   "id": "184e748a",
   "metadata": {},
   "outputs": [],
   "source": [
    "#cond1 국산돼지삼겹살을 구매한 고객, \n",
    "#cond2 해당 고객이 국산돼지삼겹살을 구매한 날짜. \n",
    "# cond = cond1 & cond2 \n",
    "cond200 = df_lotte_1qq['pd_nm'] == '가공우유'\n",
    "tofu_rctlist = df_lotte_1qq.loc[cond200]['rct_no'].unique().tolist()\n",
    "\n",
    "cond201 = df_lotte_1qq['rct_no'].isin(tofu_rctlist)\n",
    "\n",
    "df_lotte_1q = df_lotte_1qq.loc[cond201]\n",
    "\n",
    "df_lotte_1q"
   ]
  },
  {
   "cell_type": "code",
   "execution_count": null,
   "id": "4f6d7cd9",
   "metadata": {},
   "outputs": [],
   "source": [
    "#하이마트-마트 연관분석\n",
    "p24 = df_lotte_1q.pivot_table(index=['rct_no'], columns='pd_nm', values='Label', aggfunc='min', fill_value=0)\n",
    "\n",
    "#연관분석 진행, 최소 지지도 0.01\n",
    "df_freq24 = apriori(p24, min_support = 0.01, use_colnames=True)\n",
    "df_freq24\n",
    "\n",
    "df_lotte_1Q = association_rules(df_freq24, metric='confidence', min_threshold=0.01)\n",
    "df_lotte_1Q.sort_values(by='lift', ascending=False).head(50)"
   ]
  },
  {
   "cell_type": "code",
   "execution_count": 10,
   "id": "032183d1",
   "metadata": {},
   "outputs": [
    {
     "data": {
      "text/plain": [
       "chnl_dv\n",
       "1    3953242\n",
       "2     428501\n",
       "Name: count, dtype: int64"
      ]
     },
     "execution_count": 10,
     "metadata": {},
     "output_type": "execute_result"
    }
   ],
   "source": [
    "df2['chnl_dv'].value_counts()"
   ]
  },
  {
   "cell_type": "code",
   "execution_count": 11,
   "id": "5a970ee1",
   "metadata": {},
   "outputs": [
    {
     "data": {
      "text/html": [
       "<div>\n",
       "<style scoped>\n",
       "    .dataframe tbody tr th:only-of-type {\n",
       "        vertical-align: middle;\n",
       "    }\n",
       "\n",
       "    .dataframe tbody tr th {\n",
       "        vertical-align: top;\n",
       "    }\n",
       "\n",
       "    .dataframe thead th {\n",
       "        text-align: right;\n",
       "    }\n",
       "</style>\n",
       "<table border=\"1\" class=\"dataframe\">\n",
       "  <thead>\n",
       "    <tr style=\"text-align: right;\">\n",
       "      <th></th>\n",
       "      <th>cust</th>\n",
       "      <th>rct_no</th>\n",
       "      <th>chnl_dv</th>\n",
       "      <th>cop_c</th>\n",
       "      <th>br_c</th>\n",
       "      <th>pd_c</th>\n",
       "      <th>de_dt</th>\n",
       "      <th>de_hr</th>\n",
       "      <th>buy_am</th>\n",
       "      <th>buy_ct</th>\n",
       "      <th>Label</th>\n",
       "    </tr>\n",
       "  </thead>\n",
       "  <tbody>\n",
       "    <tr>\n",
       "      <th>0</th>\n",
       "      <td>M430112881</td>\n",
       "      <td>A01000001113</td>\n",
       "      <td>1</td>\n",
       "      <td>A01</td>\n",
       "      <td>A010039</td>\n",
       "      <td>PD0290</td>\n",
       "      <td>20210101</td>\n",
       "      <td>10</td>\n",
       "      <td>15000.0</td>\n",
       "      <td>1</td>\n",
       "      <td>1</td>\n",
       "    </tr>\n",
       "    <tr>\n",
       "      <th>1</th>\n",
       "      <td>M646853852</td>\n",
       "      <td>A01000002265</td>\n",
       "      <td>1</td>\n",
       "      <td>A01</td>\n",
       "      <td>A010025</td>\n",
       "      <td>PD1369</td>\n",
       "      <td>20210101</td>\n",
       "      <td>10</td>\n",
       "      <td>79700.0</td>\n",
       "      <td>1</td>\n",
       "      <td>1</td>\n",
       "    </tr>\n",
       "    <tr>\n",
       "      <th>2</th>\n",
       "      <td>M430112881</td>\n",
       "      <td>A01000003148</td>\n",
       "      <td>1</td>\n",
       "      <td>A01</td>\n",
       "      <td>A010039</td>\n",
       "      <td>PD0290</td>\n",
       "      <td>20210101</td>\n",
       "      <td>10</td>\n",
       "      <td>19000.0</td>\n",
       "      <td>1</td>\n",
       "      <td>1</td>\n",
       "    </tr>\n",
       "    <tr>\n",
       "      <th>3</th>\n",
       "      <td>M430112881</td>\n",
       "      <td>A01000003148</td>\n",
       "      <td>1</td>\n",
       "      <td>A01</td>\n",
       "      <td>A010039</td>\n",
       "      <td>PD0290</td>\n",
       "      <td>20210101</td>\n",
       "      <td>10</td>\n",
       "      <td>19000.0</td>\n",
       "      <td>1</td>\n",
       "      <td>1</td>\n",
       "    </tr>\n",
       "    <tr>\n",
       "      <th>4</th>\n",
       "      <td>M430112881</td>\n",
       "      <td>A01000004946</td>\n",
       "      <td>1</td>\n",
       "      <td>A01</td>\n",
       "      <td>A010039</td>\n",
       "      <td>PD0290</td>\n",
       "      <td>20210101</td>\n",
       "      <td>10</td>\n",
       "      <td>19000.0</td>\n",
       "      <td>1</td>\n",
       "      <td>1</td>\n",
       "    </tr>\n",
       "    <tr>\n",
       "      <th>...</th>\n",
       "      <td>...</td>\n",
       "      <td>...</td>\n",
       "      <td>...</td>\n",
       "      <td>...</td>\n",
       "      <td>...</td>\n",
       "      <td>...</td>\n",
       "      <td>...</td>\n",
       "      <td>...</td>\n",
       "      <td>...</td>\n",
       "      <td>...</td>\n",
       "      <td>...</td>\n",
       "    </tr>\n",
       "    <tr>\n",
       "      <th>4381738</th>\n",
       "      <td>M533286446</td>\n",
       "      <td>E06052119978</td>\n",
       "      <td>2</td>\n",
       "      <td>A06</td>\n",
       "      <td>NaN</td>\n",
       "      <td>PD0507</td>\n",
       "      <td>20211231</td>\n",
       "      <td>23</td>\n",
       "      <td>50000.0</td>\n",
       "      <td>1</td>\n",
       "      <td>1</td>\n",
       "    </tr>\n",
       "    <tr>\n",
       "      <th>4381739</th>\n",
       "      <td>M533286446</td>\n",
       "      <td>E06052119978</td>\n",
       "      <td>2</td>\n",
       "      <td>A06</td>\n",
       "      <td>NaN</td>\n",
       "      <td>PD0507</td>\n",
       "      <td>20211231</td>\n",
       "      <td>23</td>\n",
       "      <td>50000.0</td>\n",
       "      <td>1</td>\n",
       "      <td>1</td>\n",
       "    </tr>\n",
       "    <tr>\n",
       "      <th>4381740</th>\n",
       "      <td>M533286446</td>\n",
       "      <td>E06052119978</td>\n",
       "      <td>2</td>\n",
       "      <td>A06</td>\n",
       "      <td>NaN</td>\n",
       "      <td>PD0507</td>\n",
       "      <td>20211231</td>\n",
       "      <td>23</td>\n",
       "      <td>50000.0</td>\n",
       "      <td>1</td>\n",
       "      <td>1</td>\n",
       "    </tr>\n",
       "    <tr>\n",
       "      <th>4381741</th>\n",
       "      <td>M533286446</td>\n",
       "      <td>E06052119978</td>\n",
       "      <td>2</td>\n",
       "      <td>A06</td>\n",
       "      <td>NaN</td>\n",
       "      <td>PD0507</td>\n",
       "      <td>20211231</td>\n",
       "      <td>23</td>\n",
       "      <td>50000.0</td>\n",
       "      <td>1</td>\n",
       "      <td>1</td>\n",
       "    </tr>\n",
       "    <tr>\n",
       "      <th>4381742</th>\n",
       "      <td>M533286446</td>\n",
       "      <td>E06052119978</td>\n",
       "      <td>2</td>\n",
       "      <td>A06</td>\n",
       "      <td>NaN</td>\n",
       "      <td>PD0507</td>\n",
       "      <td>20211231</td>\n",
       "      <td>23</td>\n",
       "      <td>50000.0</td>\n",
       "      <td>1</td>\n",
       "      <td>1</td>\n",
       "    </tr>\n",
       "  </tbody>\n",
       "</table>\n",
       "<p>4381743 rows × 11 columns</p>\n",
       "</div>"
      ],
      "text/plain": [
       "               cust        rct_no  chnl_dv cop_c     br_c    pd_c     de_dt  \\\n",
       "0        M430112881  A01000001113        1   A01  A010039  PD0290  20210101   \n",
       "1        M646853852  A01000002265        1   A01  A010025  PD1369  20210101   \n",
       "2        M430112881  A01000003148        1   A01  A010039  PD0290  20210101   \n",
       "3        M430112881  A01000003148        1   A01  A010039  PD0290  20210101   \n",
       "4        M430112881  A01000004946        1   A01  A010039  PD0290  20210101   \n",
       "...             ...           ...      ...   ...      ...     ...       ...   \n",
       "4381738  M533286446  E06052119978        2   A06      NaN  PD0507  20211231   \n",
       "4381739  M533286446  E06052119978        2   A06      NaN  PD0507  20211231   \n",
       "4381740  M533286446  E06052119978        2   A06      NaN  PD0507  20211231   \n",
       "4381741  M533286446  E06052119978        2   A06      NaN  PD0507  20211231   \n",
       "4381742  M533286446  E06052119978        2   A06      NaN  PD0507  20211231   \n",
       "\n",
       "         de_hr   buy_am  buy_ct  Label  \n",
       "0           10  15000.0       1      1  \n",
       "1           10  79700.0       1      1  \n",
       "2           10  19000.0       1      1  \n",
       "3           10  19000.0       1      1  \n",
       "4           10  19000.0       1      1  \n",
       "...        ...      ...     ...    ...  \n",
       "4381738     23  50000.0       1      1  \n",
       "4381739     23  50000.0       1      1  \n",
       "4381740     23  50000.0       1      1  \n",
       "4381741     23  50000.0       1      1  \n",
       "4381742     23  50000.0       1      1  \n",
       "\n",
       "[4381743 rows x 11 columns]"
      ]
     },
     "execution_count": 11,
     "metadata": {},
     "output_type": "execute_result"
    }
   ],
   "source": [
    "df2"
   ]
  },
  {
   "cell_type": "code",
   "execution_count": null,
   "id": "18e18a67",
   "metadata": {},
   "outputs": [],
   "source": []
  }
 ],
 "metadata": {
  "kernelspec": {
   "display_name": "Python 3 (ipykernel)",
   "language": "python",
   "name": "python3"
  },
  "language_info": {
   "codemirror_mode": {
    "name": "ipython",
    "version": 3
   },
   "file_extension": ".py",
   "mimetype": "text/x-python",
   "name": "python",
   "nbconvert_exporter": "python",
   "pygments_lexer": "ipython3",
   "version": "3.11.5"
  },
  "toc": {
   "base_numbering": 1,
   "nav_menu": {},
   "number_sections": true,
   "sideBar": true,
   "skip_h1_title": false,
   "title_cell": "Table of Contents",
   "title_sidebar": "Contents",
   "toc_cell": false,
   "toc_position": {},
   "toc_section_display": true,
   "toc_window_display": false
  }
 },
 "nbformat": 4,
 "nbformat_minor": 5
}
